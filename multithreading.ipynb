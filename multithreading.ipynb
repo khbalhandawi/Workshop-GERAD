{
 "cells": [
  {
   "attachments": {},
   "cell_type": "markdown",
   "metadata": {},
   "source": [
    "# Parallel computing and GPU programming with Julia \n",
    "## Part I: Multi-threading\n",
    "Alexis Montoison"
   ]
  },
  {
   "cell_type": "code",
   "execution_count": 1,
   "metadata": {
    "scrolled": true
   },
   "outputs": [],
   "source": [
    "using Base.Threads\n",
    "using BenchmarkTools"
   ]
  },
  {
   "attachments": {},
   "cell_type": "markdown",
   "metadata": {},
   "source": [
    "- **Thread** is the smallest unit of executable code that performs a particular task.\n",
    "- An application can divided into multiple tasks and each can be assigned to a thread.\n",
    "- Many threads executing simultaneously is termed as **multi-threading**."
   ]
  },
  {
   "attachments": {},
   "cell_type": "markdown",
   "metadata": {},
   "source": [
    "In Julia, all relevant functions for multi-threading are in the `Threads` library.\n",
    "How many threads do we have access to?"
   ]
  },
  {
   "cell_type": "code",
   "execution_count": 2,
   "metadata": {
    "scrolled": true
   },
   "outputs": [
    {
     "data": {
      "text/plain": [
       "12"
      ]
     },
     "metadata": {},
     "output_type": "display_data"
    }
   ],
   "source": [
    "Threads.nthreads()"
   ]
  },
  {
   "attachments": {},
   "cell_type": "markdown",
   "metadata": {},
   "source": [
    "we will need more than one thread to be able to gain any performance from multi-threading...\n",
    "\n",
    "Julia can be started with a given number of threads in different ways:"
   ]
  },
  {
   "attachments": {},
   "cell_type": "markdown",
   "metadata": {},
   "source": [
    "```julia\n",
    "JULIA_NUM_THREADS=4 julia  # we can also set the `JULIA_NUM_THREADS` environment variable in .bashrc.\n",
    "julia -t 4\n",
    "julia --threads 4\n",
    "julia -t auto\n",
    "```"
   ]
  },
  {
   "attachments": {},
   "cell_type": "markdown",
   "metadata": {},
   "source": [
    "The main multithreading approach is to use the `Threads.@threads` macro which parallelizes a for loop to run with multiple threads. Let us operate on the array `a` simultaneously using 4 threads. We'll have each thread write its thread ID into each location.\n",
    "\n",
    "**Note**: 4 is the number of threads on my computer."
   ]
  },
  {
   "cell_type": "code",
   "execution_count": 3,
   "metadata": {
    "scrolled": true
   },
   "outputs": [
    {
     "data": {
      "text/plain": [
       "10-element Vector{Int64}:\n",
       "  2\n",
       "  9\n",
       " 12\n",
       "  6\n",
       "  7\n",
       " 10\n",
       "  1\n",
       "  8\n",
       "  3\n",
       " 11"
      ]
     },
     "metadata": {},
     "output_type": "display_data"
    }
   ],
   "source": [
    "a = zeros(Int, 10)\n",
    "Threads.@threads for i = 1:10\n",
    "    a[i] = Threads.threadid()\n",
    "end\n",
    "display(a)"
   ]
  },
  {
   "attachments": {},
   "cell_type": "markdown",
   "metadata": {},
   "source": [
    "The iteration space is split among the threads. What is the difference between `:static` and `:dynamic` schedulers?"
   ]
  },
  {
   "cell_type": "code",
   "execution_count": 4,
   "metadata": {
    "scrolled": true
   },
   "outputs": [
    {
     "data": {
      "text/plain": [
       "busywait (generic function with 1 method)"
      ]
     },
     "metadata": {},
     "output_type": "display_data"
    }
   ],
   "source": [
    "function busywait(seconds)\n",
    "    tstart = time_ns()\n",
    "    while (time_ns() - tstart) / 1e9 < seconds\n",
    "    end\n",
    "end"
   ]
  },
  {
   "attachments": {},
   "cell_type": "markdown",
   "metadata": {},
   "source": [
    "The schedule used by the macro `Threads.@threads` can be specified as:\n",
    "* `:static` schedules one task per thread apriori\n",
    "* `:dynamic` (default) schedules tasks among threads dynamically"
   ]
  },
  {
   "cell_type": "code",
   "execution_count": 5,
   "metadata": {
    "scrolled": true
   },
   "outputs": [
    {
     "name": "stdout",
     "output_type": "stream",
     "text": [
      "  6.046568 seconds (63.43 k allocations: 3.391 MiB, 0.93% compilation time)\n"
     ]
    }
   ],
   "source": [
    "@time begin\n",
    "    Threads.@spawn busywait(5)\n",
    "    Threads.@threads :static for i in 1:Threads.nthreads()\n",
    "        busywait(1)\n",
    "    end\n",
    "end"
   ]
  },
  {
   "cell_type": "code",
   "execution_count": 6,
   "metadata": {
    "scrolled": true
   },
   "outputs": [
    {
     "name": "stdout",
     "output_type": "stream",
     "text": [
      "  2.037974 seconds (42.13 k allocations: 2.229 MiB, 1.86% compilation time)\n"
     ]
    }
   ],
   "source": [
    "@time begin\n",
    "    Threads.@spawn busywait(5)\n",
    "    Threads.@threads :dynamic for i in 1:Threads.nthreads()\n",
    "        busywait(1)\n",
    "    end\n",
    "end"
   ]
  },
  {
   "attachments": {},
   "cell_type": "markdown",
   "metadata": {},
   "source": [
    "`@inbounds` macro is used to skip in range check of the iterator `i` in the matrix `A`"
   ]
  },
  {
   "cell_type": "code",
   "execution_count": 7,
   "metadata": {
    "scrolled": true
   },
   "outputs": [
    {
     "data": {
      "text/plain": [
       "sqrt_array (generic function with 1 method)"
      ]
     },
     "metadata": {},
     "output_type": "display_data"
    }
   ],
   "source": [
    "function sqrt_array(A)\n",
    "    B = similar(A)\n",
    "    for i in eachindex(A)\n",
    "        @inbounds B[i] = sqrt(A[i])\n",
    "    end\n",
    "    B\n",
    "end"
   ]
  },
  {
   "cell_type": "code",
   "execution_count": 8,
   "metadata": {
    "scrolled": true
   },
   "outputs": [
    {
     "data": {
      "text/plain": [
       "threaded_sqrt_array (generic function with 1 method)"
      ]
     },
     "metadata": {},
     "output_type": "display_data"
    }
   ],
   "source": [
    "function threaded_sqrt_array(A)\n",
    "    B = similar(A)\n",
    "    @threads for i in eachindex(A)\n",
    "        @inbounds B[i] = sqrt(A[i])\n",
    "    end\n",
    "    B\n",
    "end"
   ]
  },
  {
   "cell_type": "code",
   "execution_count": 9,
   "metadata": {
    "scrolled": true
   },
   "outputs": [
    {
     "name": "stdout",
     "output_type": "stream",
     "text": [
      "  1.473 ms (2 allocations: 7.63 MiB)\n"
     ]
    },
    {
     "name": "stdout",
     "output_type": "stream",
     "text": [
      "  448.933 μs (75 allocations: 7.64 MiB)\n"
     ]
    }
   ],
   "source": [
    "n = 1000\n",
    "A = rand(n, n)\n",
    "@btime sqrt_array(A);\n",
    "@btime threaded_sqrt_array(A);"
   ]
  },
  {
   "attachments": {},
   "cell_type": "markdown",
   "metadata": {},
   "source": [
    "Do we have the correct result?"
   ]
  },
  {
   "cell_type": "code",
   "execution_count": 10,
   "metadata": {
    "scrolled": true
   },
   "outputs": [
    {
     "data": {
      "text/plain": [
       "true"
      ]
     },
     "metadata": {},
     "output_type": "display_data"
    }
   ],
   "source": [
    "sqrt_array(A) ≈ threaded_sqrt_array(A)"
   ]
  },
  {
   "attachments": {},
   "cell_type": "markdown",
   "metadata": {},
   "source": [
    "With 4 threads, the speedup could be about a factor of 3"
   ]
  },
  {
   "cell_type": "code",
   "execution_count": 11,
   "metadata": {
    "scrolled": true
   },
   "outputs": [
    {
     "data": {
      "text/plain": [
       "sqrt_sum (generic function with 1 method)"
      ]
     },
     "metadata": {},
     "output_type": "display_data"
    }
   ],
   "source": [
    "function sqrt_sum(A)\n",
    "    s = zero(eltype(A))\n",
    "    for i in eachindex(A)\n",
    "        @inbounds s += sqrt(A[i])\n",
    "    end\n",
    "    return s\n",
    "end"
   ]
  },
  {
   "cell_type": "code",
   "execution_count": 12,
   "metadata": {
    "scrolled": true
   },
   "outputs": [
    {
     "data": {
      "text/plain": [
       "threaded_sqrt_sum (generic function with 1 method)"
      ]
     },
     "metadata": {},
     "output_type": "display_data"
    }
   ],
   "source": [
    "function threaded_sqrt_sum(A)\n",
    "    s = zero(eltype(A))\n",
    "    @threads for i in eachindex(A)\n",
    "        @inbounds s += sqrt(A[i])\n",
    "    end\n",
    "    return s\n",
    "end"
   ]
  },
  {
   "cell_type": "code",
   "execution_count": 13,
   "metadata": {
    "scrolled": true
   },
   "outputs": [
    {
     "name": "stdout",
     "output_type": "stream",
     "text": [
      "  1.458 ms (1 allocation: 16 bytes)\n"
     ]
    },
    {
     "name": "stdout",
     "output_type": "stream",
     "text": [
      "  12.409 ms (2000074 allocations: 30.52 MiB)\n"
     ]
    }
   ],
   "source": [
    "n = 1000\n",
    "A = rand(n, n)\n",
    "@btime sqrt_sum(A);\n",
    "@btime threaded_sqrt_sum(A);"
   ]
  },
  {
   "cell_type": "code",
   "execution_count": 14,
   "metadata": {
    "scrolled": true
   },
   "outputs": [
    {
     "data": {
      "text/plain": [
       "false"
      ]
     },
     "metadata": {},
     "output_type": "display_data"
    }
   ],
   "source": [
    "sqrt_sum(A) ≈ threaded_sqrt_sum(A)"
   ]
  },
  {
   "attachments": {},
   "cell_type": "markdown",
   "metadata": {},
   "source": [
    "The result of the multithreaded function is wrong due to missing thread synchronization"
   ]
  },
  {
   "cell_type": "code",
   "execution_count": 15,
   "metadata": {
    "scrolled": true
   },
   "outputs": [
    {
     "data": {
      "text/plain": [
       "251"
      ]
     },
     "metadata": {},
     "output_type": "display_data"
    }
   ],
   "source": [
    "# Ref{Int} is an object that safely references data of type Int.\n",
    "# This type is guaranteed to point to valid, Julia-allocated memory of the correct type.\n",
    "acc = Ref{Int}(0)\n",
    "@threads for i in 1:1000\n",
    "    acc[] += 1\n",
    "end\n",
    "acc[]"
   ]
  },
  {
   "attachments": {},
   "cell_type": "markdown",
   "metadata": {},
   "source": [
    "With multi-threading we need to be aware of possible race conditions, i.e. when the order in which threads read from and write to memory can change the result of a computation."
   ]
  },
  {
   "attachments": {},
   "cell_type": "markdown",
   "metadata": {},
   "source": [
    "![](./Graphics/update_int.png)"
   ]
  },
  {
   "attachments": {},
   "cell_type": "markdown",
   "metadata": {},
   "source": [
    "You are entirely responsible for ensuring that your program is data-race free. Be very careful about reading any data if another thread might write to it!"
   ]
  },
  {
   "attachments": {},
   "cell_type": "markdown",
   "metadata": {},
   "source": [
    "![](./Graphics/meme_race_conditions.jpg)"
   ]
  },
  {
   "attachments": {},
   "cell_type": "markdown",
   "metadata": {},
   "source": [
    "Julia supports accessing and modifying values atomically, that is, in a thread-safe way to avoid race conditions.\n",
    "A value (which must be of a primitive type) can be wrapped as `Threads.Atomic` to indicate it must be accessed in this way. Here we can see an example:"
   ]
  },
  {
   "cell_type": "code",
   "execution_count": 16,
   "metadata": {
    "scrolled": true
   },
   "outputs": [
    {
     "data": {
      "text/plain": [
       "1000"
      ]
     },
     "metadata": {},
     "output_type": "display_data"
    }
   ],
   "source": [
    " acc = Atomic{Int}(0)\n",
    " @threads for i in 1:1000\n",
    "    atomic_add!(acc, 1)\n",
    "end\n",
    "acc[]"
   ]
  },
  {
   "cell_type": "code",
   "execution_count": 17,
   "metadata": {
    "scrolled": true
   },
   "outputs": [
    {
     "data": {
      "text/plain": [
       "10"
      ]
     },
     "metadata": {},
     "output_type": "display_data"
    },
    {
     "data": {
      "text/plain": [
       "4-element Vector{Float64}:\n",
       " 0.0\n",
       " 1.0\n",
       " 3.0\n",
       " 6.0"
      ]
     },
     "metadata": {},
     "output_type": "display_data"
    }
   ],
   "source": [
    "i = Threads.Atomic{Int}(0)\n",
    "old_i = zeros(4)\n",
    "Threads.@threads for id in 1:4\n",
    "    old_i[id] = atomic_add!(i, id) # Threads.atomic_add! returns the old value of i!\n",
    "end\n",
    "display(i[])\n",
    "old_i"
   ]
  },
  {
   "attachments": {},
   "cell_type": "markdown",
   "metadata": {},
   "source": [
    "Let's solve the race condition in our previous example:"
   ]
  },
  {
   "cell_type": "code",
   "execution_count": 18,
   "metadata": {
    "scrolled": true
   },
   "outputs": [
    {
     "data": {
      "text/plain": [
       "threaded_sqrt_sum_atomic (generic function with 1 method)"
      ]
     },
     "metadata": {},
     "output_type": "display_data"
    }
   ],
   "source": [
    "function threaded_sqrt_sum_atomic(A)\n",
    "    T = eltype(A)\n",
    "    s = Atomic{T}(zero(T))\n",
    "    @threads for i in eachindex(A)\n",
    "        @inbounds atomic_add!(s, sqrt(A[i]))\n",
    "    end\n",
    "    return s[]\n",
    "end"
   ]
  },
  {
   "cell_type": "code",
   "execution_count": 19,
   "metadata": {
    "scrolled": true
   },
   "outputs": [
    {
     "name": "stdout",
     "output_type": "stream",
     "text": [
      "  70.470 ms (77 allocations: 6.39 KiB)\n"
     ]
    }
   ],
   "source": [
    "@btime threaded_sqrt_sum_atomic(A);"
   ]
  },
  {
   "cell_type": "code",
   "execution_count": 20,
   "metadata": {},
   "outputs": [
    {
     "data": {
      "text/plain": [
       "true"
      ]
     },
     "metadata": {},
     "output_type": "display_data"
    }
   ],
   "source": [
    "sqrt_sum(A) ≈ threaded_sqrt_sum_atomic(A)"
   ]
  },
  {
   "cell_type": "code",
   "execution_count": 21,
   "metadata": {
    "scrolled": true
   },
   "outputs": [
    {
     "data": {
      "text/plain": [
       "threaded_sqrt_sum_optimized (generic function with 1 method)"
      ]
     },
     "metadata": {},
     "output_type": "display_data"
    }
   ],
   "source": [
    "function threaded_sqrt_sum_optimized(A)\n",
    "    T = eltype(A)\n",
    "    partial = zeros(T, nthreads())\n",
    "    @threads for i in eachindex(A)\n",
    "        @inbounds partial[threadid()] += sqrt(A[i])\n",
    "    end\n",
    "    s = zero(T)\n",
    "    for i in eachindex(partial)\n",
    "        s += partial[i]\n",
    "    end\n",
    "    return s\n",
    "end"
   ]
  },
  {
   "cell_type": "code",
   "execution_count": 22,
   "metadata": {
    "scrolled": true
   },
   "outputs": [
    {
     "name": "stdout",
     "output_type": "stream",
     "text": [
      "  519.993 μs (75 allocations: 6.50 KiB)\n"
     ]
    }
   ],
   "source": [
    "@btime threaded_sqrt_sum_optimized(A);"
   ]
  },
  {
   "attachments": {},
   "cell_type": "markdown",
   "metadata": {},
   "source": [
    "We observe that:\n",
    "- The serial version provides the correct value and reference execution time.\n",
    "- The race condition version is both slow and wrong.\n",
    "- The atomic version is correct but extremely slow.\n",
    "- The optimized version is fast and correct, but required refactoring."
   ]
  },
  {
   "attachments": {},
   "cell_type": "markdown",
   "metadata": {},
   "source": [
    "**Conclusion**: Threads is as easy as decorating for loops with `@threads`, but data dependencies (race conditions) need to be avoided.\n",
    "It sometimes requires code refactorization.\n",
    "Using `atomic` operations adds significant overhead and thus only makes sense if each iteration of the loop takes significant time to compute."
   ]
  },
  {
   "attachments": {},
   "cell_type": "markdown",
   "metadata": {},
   "source": [
    "![](./Graphics/meme_multithreading.jpg)"
   ]
  },
  {
   "attachments": {},
   "cell_type": "markdown",
   "metadata": {},
   "source": [
    "#### Exercise: Multithread the computation of π"
   ]
  },
  {
   "attachments": {},
   "cell_type": "markdown",
   "metadata": {},
   "source": [
    "Consider the following function which estimates π by “throwing darts”, i.e. randomly sampling (x,y) points in the interval [0.0, 1.0] and checking if they fall within the unit circle.\n",
    "<img src='./Graphics/pi_with_darts.png' width='400'>"
   ]
  },
  {
   "cell_type": "code",
   "execution_count": 23,
   "metadata": {
    "scrolled": true
   },
   "outputs": [
    {
     "data": {
      "text/plain": [
       "estimate_pi (generic function with 1 method)"
      ]
     },
     "metadata": {},
     "output_type": "display_data"
    }
   ],
   "source": [
    "function estimate_pi(num_points)\n",
    "    hits = 0\n",
    "    for _ in 1:num_points\n",
    "        x, y = rand(), rand()\n",
    "        if x^2 + y^2 < 1.0\n",
    "            hits += 1\n",
    "        end\n",
    "    end\n",
    "    fraction = hits / num_points\n",
    "    return 4 * fraction\n",
    "end"
   ]
  },
  {
   "cell_type": "code",
   "execution_count": 24,
   "metadata": {
    "scrolled": true
   },
   "outputs": [
    {
     "name": "stdout",
     "output_type": "stream",
     "text": [
      "  334.244 ms (1 allocation: 16 bytes)\n"
     ]
    },
    {
     "data": {
      "text/plain": [
       "3.141523"
      ]
     },
     "metadata": {},
     "output_type": "display_data"
    }
   ],
   "source": [
    "num_points = 100_000_000\n",
    "@btime estimate_pi(num_points)  # 3.14147572..."
   ]
  },
  {
   "cell_type": "code",
   "execution_count": 25,
   "metadata": {
    "scrolled": true
   },
   "outputs": [
    {
     "data": {
      "text/plain": [
       "threaded_estimate_pi_v1 (generic function with 1 method)"
      ]
     },
     "metadata": {},
     "output_type": "display_data"
    }
   ],
   "source": [
    "function threaded_estimate_pi_v1(num_points)\n",
    "    hits = Atomic{Int}(0)\n",
    "    @threads for _ in 1:num_points\n",
    "        x, y = rand(), rand()\n",
    "        if x^2 + y^2 < 1.0\n",
    "            atomic_add!(hits, 1)\n",
    "        end\n",
    "    end\n",
    "    fraction = hits[] / num_points\n",
    "    return 4 * fraction\n",
    "end"
   ]
  },
  {
   "cell_type": "code",
   "execution_count": 26,
   "metadata": {
    "scrolled": true
   },
   "outputs": [
    {
     "name": "stdout",
     "output_type": "stream",
     "text": [
      "  1.588 s (92 allocations: 6.70 KiB)\n"
     ]
    },
    {
     "data": {
      "text/plain": [
       "3.14147204"
      ]
     },
     "metadata": {},
     "output_type": "display_data"
    }
   ],
   "source": [
    "num_points = 100_000_000\n",
    "@btime threaded_estimate_pi_v1(num_points)"
   ]
  },
  {
   "cell_type": "code",
   "execution_count": 27,
   "metadata": {
    "scrolled": true
   },
   "outputs": [
    {
     "data": {
      "text/plain": [
       "threaded_estimate_pi_v2 (generic function with 1 method)"
      ]
     },
     "metadata": {},
     "output_type": "display_data"
    }
   ],
   "source": [
    "function threaded_estimate_pi_v2(num_points)\n",
    "    partial_hits = zeros(Int, nthreads())\n",
    "    @threads for _ in 1:num_points\n",
    "        x, y = rand(), rand()\n",
    "        if x^2 + y^2 < 1.0\n",
    "            partial_hits[threadid()] += 1\n",
    "        end\n",
    "    end\n",
    "    hits = sum(partial_hits)\n",
    "    fraction = hits / num_points\n",
    "    return 4 * fraction\n",
    "end"
   ]
  },
  {
   "cell_type": "code",
   "execution_count": 28,
   "metadata": {
    "scrolled": true
   },
   "outputs": [
    {
     "name": "stdout",
     "output_type": "stream",
     "text": [
      "  269.257 ms (77 allocations: 6.53 KiB)\n"
     ]
    },
    {
     "data": {
      "text/plain": [
       "3.1417878"
      ]
     },
     "metadata": {},
     "output_type": "display_data"
    }
   ],
   "source": [
    "num_points = 100_000_000\n",
    "@btime threaded_estimate_pi_v2(num_points)"
   ]
  },
  {
   "attachments": {},
   "cell_type": "markdown",
   "metadata": {},
   "source": [
    "```julia\n",
    "julia -t 1 threaded_estimate_pi.jl\n",
    "pi = 3.14176872\n",
    "time = 950.957122\n",
    "\n",
    "julia -t 2 threaded_estimate_pi.jl\n",
    "pi = 3.1412234\n",
    "time = 732.195929\n",
    "\n",
    "julia -t 4 threaded_estimate_pi.jl\n",
    "pi = 3.14180932\n",
    "time = 663.25783\n",
    "```"
   ]
  },
  {
   "attachments": {},
   "cell_type": "markdown",
   "metadata": {},
   "source": [
    "Parallel scaling is not linear with the number of threads! Comparing to the unthreaded version reveals the overhead from creating and managing threads."
   ]
  },
  {
   "attachments": {},
   "cell_type": "markdown",
   "metadata": {},
   "source": [
    "## Homework 🤓\n",
    "\n",
    "- Implement a multi-threaded version of the dot product between two vectors.\n",
    "- Implement a multi-threaded version of the matrix-vector products `A * v` and `Aᵀ * v` where A is a SparseMatrixCSC. Explain which product is more adapted for multi-threading.\n",
    "![label_image](https://matteding.github.io/images/csc.gif)"
   ]
  },
  {
   "attachments": {},
   "cell_type": "markdown",
   "metadata": {},
   "source": [
    "# References:\n",
    "- https://docs.julialang.org/en/v1/base/multi-threading\n",
    "- https://enccs.github.io/Julia-for-HPC/multithreading\n",
    "- https://miro.medium.com/v2/resize:fit:4800/format:webp/1*2JKgg1exEuvgO8mLfEEmRg.png"
   ]
  },
  {
   "attachments": {},
   "cell_type": "markdown",
   "metadata": {},
   "source": [
    "## Vector product: $\\mathbf{A}^\\text{T}\\mathbf{v}$, where $\\mathbf{A}$ is a CSC matrix"
   ]
  },
  {
   "cell_type": "code",
   "execution_count": 47,
   "metadata": {},
   "outputs": [],
   "source": [
    "using SparseArrays\n",
    "using Random\n",
    "using Printf"
   ]
  },
  {
   "cell_type": "code",
   "execution_count": 48,
   "metadata": {},
   "outputs": [
    {
     "data": {
      "text/plain": [
       "20000×10000 SparseMatrixCSC{Float64, Int64} with 19996614 stored entries:\n",
       "⣿⣿⣿⣿⣿⣿⣿⣿⣿⣿⣿⣿⣿⣿⣿⣿⣿⣿⣿⣿\n",
       "⣿⣿⣿⣿⣿⣿⣿⣿⣿⣿⣿⣿⣿⣿⣿⣿⣿⣿⣿⣿\n",
       "⣿⣿⣿⣿⣿⣿⣿⣿⣿⣿⣿⣿⣿⣿⣿⣿⣿⣿⣿⣿\n",
       "⣿⣿⣿⣿⣿⣿⣿⣿⣿⣿⣿⣿⣿⣿⣿⣿⣿⣿⣿⣿\n",
       "⣿⣿⣿⣿⣿⣿⣿⣿⣿⣿⣿⣿⣿⣿⣿⣿⣿⣿⣿⣿\n",
       "⣿⣿⣿⣿⣿⣿⣿⣿⣿⣿⣿⣿⣿⣿⣿⣿⣿⣿⣿⣿\n",
       "⣿⣿⣿⣿⣿⣿⣿⣿⣿⣿⣿⣿⣿⣿⣿⣿⣿⣿⣿⣿\n",
       "⣿⣿⣿⣿⣿⣿⣿⣿⣿⣿⣿⣿⣿⣿⣿⣿⣿⣿⣿⣿\n",
       "⣿⣿⣿⣿⣿⣿⣿⣿⣿⣿⣿⣿⣿⣿⣿⣿⣿⣿⣿⣿\n",
       "⣿⣿⣿⣿⣿⣿⣿⣿⣿⣿⣿⣿⣿⣿⣿⣿⣿⣿⣿⣿\n",
       "⣿⣿⣿⣿⣿⣿⣿⣿⣿⣿⣿⣿⣿⣿⣿⣿⣿⣿⣿⣿\n",
       "⣿⣿⣿⣿⣿⣿⣿⣿⣿⣿⣿⣿⣿⣿⣿⣿⣿⣿⣿⣿\n",
       "⣿⣿⣿⣿⣿⣿⣿⣿⣿⣿⣿⣿⣿⣿⣿⣿⣿⣿⣿⣿\n",
       "⣿⣿⣿⣿⣿⣿⣿⣿⣿⣿⣿⣿⣿⣿⣿⣿⣿⣿⣿⣿\n",
       "⣿⣿⣿⣿⣿⣿⣿⣿⣿⣿⣿⣿⣿⣿⣿⣿⣿⣿⣿⣿\n",
       "⣿⣿⣿⣿⣿⣿⣿⣿⣿⣿⣿⣿⣿⣿⣿⣿⣿⣿⣿⣿\n",
       "⣿⣿⣿⣿⣿⣿⣿⣿⣿⣿⣿⣿⣿⣿⣿⣿⣿⣿⣿⣿\n",
       "⣿⣿⣿⣿⣿⣿⣿⣿⣿⣿⣿⣿⣿⣿⣿⣿⣿⣿⣿⣿\n",
       "⣿⣿⣿⣿⣿⣿⣿⣿⣿⣿⣿⣿⣿⣿⣿⣿⣿⣿⣿⣿\n",
       "⣿⣿⣿⣿⣿⣿⣿⣿⣿⣿⣿⣿⣿⣿⣿⣿⣿⣿⣿⣿"
      ]
     },
     "metadata": {},
     "output_type": "display_data"
    },
    {
     "name": "stdout",
     "output_type": "stream",
     "text": [
      "number of non-zero values: 19996614\n"
     ]
    }
   ],
   "source": [
    "K = 2000\n",
    "# generate a compressed sparse column matrix and a random vector\n",
    "Random.seed!(1234)\n",
    "m = 10 * K\n",
    "n = 5 * K\n",
    "A = sprand(m,n,0.1)\n",
    "v = rand(m)\n",
    "\n",
    "display(A)\n",
    "\n",
    "# println(\"col ptr: \", A.colptr)\n",
    "# println(\"row id:  \", A.rowval)\n",
    "# println(\"data:    \", A.nzval)\n",
    "@printf \"number of non-zero values: %i\\n\" length(A.nzval)"
   ]
  },
  {
   "cell_type": "code",
   "execution_count": 49,
   "metadata": {},
   "outputs": [
    {
     "data": {
      "text/plain": [
       "CSC_vector_product (generic function with 1 method)"
      ]
     },
     "metadata": {},
     "output_type": "display_data"
    }
   ],
   "source": [
    "function CSC_vector_product(A::SparseMatrixCSC,v::Vector)\n",
    "    product = zeros(A.n)\n",
    "\n",
    "    for i in 1:A.n\n",
    "        for j in A.colptr[i]:(A.colptr[i+1]-1)\n",
    "            product[i] += A.nzval[j]*v[A.rowval[j]]\n",
    "        end\n",
    "    end\n",
    "    return product\n",
    "end"
   ]
  },
  {
   "cell_type": "code",
   "execution_count": 50,
   "metadata": {},
   "outputs": [
    {
     "data": {
      "text/plain": [
       "threaded_CSC_vector_product (generic function with 1 method)"
      ]
     },
     "metadata": {},
     "output_type": "display_data"
    }
   ],
   "source": [
    "function threaded_CSC_vector_product(A::SparseMatrixCSC,v::Vector)\n",
    "    product = zeros(A.n)\n",
    "\n",
    "    @threads for i in 1:A.n\n",
    "        for j in A.colptr[i]:(A.colptr[i+1]-1)\n",
    "            product[i] += A.nzval[j]*v[A.rowval[j]]\n",
    "        end\n",
    "    end\n",
    "    return product\n",
    "end"
   ]
  },
  {
   "cell_type": "code",
   "execution_count": 51,
   "metadata": {},
   "outputs": [
    {
     "name": "stdout",
     "output_type": "stream",
     "text": [
      "true\n"
     ]
    },
    {
     "name": "stdout",
     "output_type": "stream",
     "text": [
      "true\n"
     ]
    }
   ],
   "source": [
    "println((A'*v) ≈ CSC_vector_product(A,v))\n",
    "println((A'*v) ≈ threaded_CSC_vector_product(A,v))"
   ]
  },
  {
   "cell_type": "code",
   "execution_count": 52,
   "metadata": {},
   "outputs": [
    {
     "name": "stdout",
     "output_type": "stream",
     "text": [
      "  30.976 ms (2 allocations: 78.17 KiB)\n"
     ]
    },
    {
     "name": "stdout",
     "output_type": "stream",
     "text": [
      "  10.047 ms (75 allocations: 85.06 KiB)\n"
     ]
    }
   ],
   "source": [
    "@btime CSC_vector_product(A,v);\n",
    "@btime threaded_CSC_vector_product(A,v);"
   ]
  },
  {
   "attachments": {},
   "cell_type": "markdown",
   "metadata": {},
   "source": [
    "## Vector product: $\\mathbf{A}\\mathbf{v}$, where $\\mathbf{A}$ is a CSC matrix"
   ]
  },
  {
   "cell_type": "code",
   "execution_count": 53,
   "metadata": {},
   "outputs": [],
   "source": [
    "Random.seed!(1234)\n",
    "v = rand(n);"
   ]
  },
  {
   "cell_type": "code",
   "execution_count": 54,
   "metadata": {},
   "outputs": [
    {
     "data": {
      "text/plain": [
       "CSC_vector_product_t (generic function with 1 method)"
      ]
     },
     "metadata": {},
     "output_type": "display_data"
    }
   ],
   "source": [
    "function CSC_vector_product_t(A::SparseMatrixCSC,v::Vector)\n",
    "    product = zeros(A.m)\n",
    "\n",
    "    for i in 1:A.n # columns\n",
    "        for j in A.colptr[i]:(A.colptr[i+1]-1)\n",
    "            product[A.rowval[j]] += A.nzval[j]*v[i]\n",
    "        end\n",
    "    end\n",
    "    return product\n",
    "end"
   ]
  },
  {
   "cell_type": "code",
   "execution_count": 55,
   "metadata": {},
   "outputs": [
    {
     "data": {
      "text/plain": [
       "threaded_CSC_vector_product_t_optimized (generic function with 1 method)"
      ]
     },
     "metadata": {},
     "output_type": "display_data"
    }
   ],
   "source": [
    "function threaded_CSC_vector_product_t(A::SparseMatrixCSC,v::Vector)\n",
    "    product = zeros(A.m)\n",
    "\n",
    "    @threads for i in 1:A.n # columns\n",
    "        for j in A.colptr[i]:(A.colptr[i+1]-1)\n",
    "            product[A.rowval[j]] += A.nzval[j]*v[i]\n",
    "        end\n",
    "    end\n",
    "    return product\n",
    "end\n",
    "\n",
    "function threaded_CSC_vector_product_t_atomic(A::SparseMatrixCSC,v::Vector)\n",
    "    product = zeros(A.m)\n",
    "    \n",
    "    for i in 1:A.n # columns\n",
    "        @threads for j in A.colptr[i]:(A.colptr[i+1]-1)\n",
    "            product[A.rowval[j]] += A.nzval[j]*v[i]\n",
    "        end\n",
    "    end\n",
    "    return product\n",
    "end\n",
    "\n",
    "function threaded_CSC_vector_product_t_optimized(A::SparseMatrixCSC,v::Vector)\n",
    "    product = zeros(A.m)\n",
    "    T = eltype(A)\n",
    "    partial = zeros(T, A.m, nthreads())\n",
    "    @threads for i in 1:A.n # columns\n",
    "        for j in A.colptr[i]:(A.colptr[i+1]-1)\n",
    "            partial[A.rowval[j],threadid()] += A.nzval[j]*v[i]\n",
    "        end\n",
    "    end\n",
    "    for i in 1:nthreads()\n",
    "        product += partial[:,i]\n",
    "    end\n",
    "        \n",
    "    return product\n",
    "end"
   ]
  },
  {
   "cell_type": "code",
   "execution_count": 56,
   "metadata": {},
   "outputs": [
    {
     "name": "stdout",
     "output_type": "stream",
     "text": [
      "true\n"
     ]
    },
    {
     "name": "stdout",
     "output_type": "stream",
     "text": [
      "false\n"
     ]
    },
    {
     "name": "stdout",
     "output_type": "stream",
     "text": [
      "true\n"
     ]
    },
    {
     "name": "stdout",
     "output_type": "stream",
     "text": [
      "true\n"
     ]
    }
   ],
   "source": [
    "println((A*v) ≈ CSC_vector_product_t(A,v))\n",
    "println((A*v) ≈ threaded_CSC_vector_product_t(A,v))\n",
    "println((A*v) ≈ threaded_CSC_vector_product_t_atomic(A,v))\n",
    "println((A*v) ≈ threaded_CSC_vector_product_t_optimized(A,v))"
   ]
  },
  {
   "cell_type": "code",
   "execution_count": 57,
   "metadata": {},
   "outputs": [
    {
     "name": "stdout",
     "output_type": "stream",
     "text": [
      "  37.939 ms (2 allocations: 156.30 KiB)\n"
     ]
    },
    {
     "name": "stdout",
     "output_type": "stream",
     "text": [
      "  31.394 ms (76 allocations: 163.22 KiB)\n"
     ]
    },
    {
     "name": "stdout",
     "output_type": "stream",
     "text": [
      "  118.516 ms (741276 allocations: 67.79 MiB)\n"
     ]
    },
    {
     "name": "stdout",
     "output_type": "stream",
     "text": [
      "  11.944 ms (125 allocations: 5.65 MiB)\n"
     ]
    }
   ],
   "source": [
    "@btime CSC_vector_product_t(A,v);\n",
    "@btime threaded_CSC_vector_product_t(A,v);\n",
    "@btime threaded_CSC_vector_product_t_atomic(A,v);\n",
    "@btime threaded_CSC_vector_product_t_optimized(A,v);"
   ]
  }
 ],
 "metadata": {
  "@webio": {
   "lastCommId": null,
   "lastKernelId": null
  },
  "kernelspec": {
   "display_name": "Julia 1.8.5",
   "language": "julia",
   "name": "julia-1.8"
  },
  "language_info": {
   "file_extension": ".jl",
   "mimetype": "application/julia",
   "name": "julia",
   "version": "1.8.5"
  }
 },
 "nbformat": 4,
 "nbformat_minor": 4
}
